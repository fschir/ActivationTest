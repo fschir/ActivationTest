{
 "cells": [
  {
   "cell_type": "markdown",
   "source": [],
   "metadata": {
    "collapsed": false
   },
   "id": "168ac6f38a358362"
  },
  {
   "cell_type": "code",
   "execution_count": 472,
   "outputs": [
    {
     "name": "stdout",
     "output_type": "stream",
     "text": [
      "The autoreload extension is already loaded. To reload it, use:\n",
      "  %reload_ext autoreload\n"
     ]
    }
   ],
   "source": [
    "import torch.cuda\n",
    "%load_ext autoreload \n",
    "%autoreload 2 "
   ],
   "metadata": {
    "collapsed": false,
    "ExecuteTime": {
     "end_time": "2023-10-15T07:13:35.728801500Z",
     "start_time": "2023-10-15T07:13:33.678908300Z"
    }
   },
   "id": "7a42ce865371e432"
  },
  {
   "cell_type": "code",
   "execution_count": 473,
   "id": "initial_id",
   "metadata": {
    "collapsed": true,
    "ExecuteTime": {
     "end_time": "2023-10-15T07:13:35.799224400Z",
     "start_time": "2023-10-15T07:13:35.726799Z"
    }
   },
   "outputs": [],
   "source": [
    "from test_env.callbacks import run_cbs, Callback, CountingCallback\n",
    "from test_env.learner import Learner, LearnerSimple\n",
    "from pathlib import Path"
   ]
  },
  {
   "cell_type": "code",
   "execution_count": 473,
   "outputs": [],
   "source": [],
   "metadata": {
    "collapsed": false,
    "ExecuteTime": {
     "end_time": "2023-10-15T07:13:35.803730600Z",
     "start_time": "2023-10-15T07:13:35.799224400Z"
    }
   },
   "id": "7a52ab0670494e4d"
  },
  {
   "cell_type": "code",
   "execution_count": 474,
   "outputs": [
    {
     "name": "stdout",
     "output_type": "stream",
     "text": [
      "Done 1 batches\n"
     ]
    }
   ],
   "source": [
    "cbs = [CountingCallback()]\n",
    "run_cbs(cbs, 'before_fit')\n",
    "run_cbs(cbs, 'after_batch')\n",
    "run_cbs(cbs, 'after_fit')"
   ],
   "metadata": {
    "collapsed": false,
    "ExecuteTime": {
     "end_time": "2023-10-15T07:13:35.878962400Z",
     "start_time": "2023-10-15T07:13:35.801730500Z"
    }
   },
   "id": "f3659e6fe0257f30"
  },
  {
   "cell_type": "code",
   "execution_count": 475,
   "outputs": [
    {
     "name": "stdout",
     "output_type": "stream",
     "text": [
      "Layer: BatchNorm1d(64, eps=1e-05, momentum=0.1, affine=True, track_running_stats=True) initialized normal\n"
     ]
    }
   ],
   "source": [
    "from models.Models import  RNN, CNN\n",
    "from pathlib import Path\n",
    "from test_env.dataloader import DLoader\n",
    "import torch.nn.functional as F\n",
    "import torch \n",
    "from torch.nn.init import normal_\n",
    "from functools import partial   \n",
    "\n",
    "dls = DLoader('MNIST')\n",
    "\n",
    "model = RNN('kaiming')\n",
    "# model = CNN()\n",
    "\n",
    "learner = LearnerSimple(\n",
    "    dls=dls,\n",
    "    model = model,    \n",
    "    loss_func=F.nll_loss,\n",
    "    lr=0.2 \n",
    ")"
   ],
   "metadata": {
    "collapsed": false,
    "ExecuteTime": {
     "end_time": "2023-10-15T07:13:35.984913600Z",
     "start_time": "2023-10-15T07:13:35.875962500Z"
    }
   },
   "id": "11936ad4822cd2f7"
  },
  {
   "cell_type": "code",
   "execution_count": 476,
   "outputs": [
    {
     "data": {
      "text/plain": "RNN(\n  (rnn): LSTM(28, 64, batch_first=True)\n  (batchnorm): BatchNorm1d(64, eps=1e-05, momentum=0.1, affine=True, track_running_stats=True)\n  (dropout_1): Dropout(p=0.25, inplace=False)\n  (dropout_2): Dropout(p=0.5, inplace=False)\n  (fc_1): Linear(in_features=64, out_features=32, bias=True)\n  (fc_2): Linear(in_features=32, out_features=10, bias=True)\n  (layers): Sequential(\n    (0): BatchNorm1d(64, eps=1e-05, momentum=0.1, affine=True, track_running_stats=True)\n    (1): Linear(in_features=64, out_features=32, bias=True)\n    (2): Linear(in_features=32, out_features=10, bias=True)\n  )\n)"
     },
     "execution_count": 476,
     "metadata": {},
     "output_type": "execute_result"
    }
   ],
   "source": [
    "model.to(torch.device('cpu:0'))"
   ],
   "metadata": {
    "collapsed": false,
    "ExecuteTime": {
     "end_time": "2023-10-15T07:13:36.071956800Z",
     "start_time": "2023-10-15T07:13:35.980916300Z"
    }
   },
   "id": "73ee02d3c30eb313"
  },
  {
   "cell_type": "code",
   "execution_count": 477,
   "outputs": [
    {
     "data": {
      "text/plain": "False"
     },
     "execution_count": 477,
     "metadata": {},
     "output_type": "execute_result"
    }
   ],
   "source": [
    "torch.cuda.is_available()"
   ],
   "metadata": {
    "collapsed": false,
    "ExecuteTime": {
     "end_time": "2023-10-15T07:13:36.144407300Z",
     "start_time": "2023-10-15T07:13:36.068454900Z"
    }
   },
   "id": "a2a0c5ab94a64234"
  },
  {
   "cell_type": "code",
   "execution_count": 478,
   "outputs": [
    {
     "name": "stdout",
     "output_type": "stream",
     "text": [
      "torch.Size([64, 1, 28, 28])\n"
     ]
    }
   ],
   "source": [
    "for x, y in enumerate(dls.train):\n",
    "    print(y[0].size())\n",
    "    b = y[0].to('cpu:0')\n",
    "    break"
   ],
   "metadata": {
    "collapsed": false,
    "ExecuteTime": {
     "end_time": "2023-10-15T07:13:36.225466200Z",
     "start_time": "2023-10-15T07:13:36.142407200Z"
    }
   },
   "id": "8b7c24af5bd51b74"
  },
  {
   "cell_type": "code",
   "execution_count": 479,
   "outputs": [
    {
     "data": {
      "text/plain": "torch.Size([64, 28, 28])"
     },
     "execution_count": 479,
     "metadata": {},
     "output_type": "execute_result"
    }
   ],
   "source": [
    "import matplotlib.pyplot as plt \n",
    "\n",
    "b = b.reshape(-1, 28, 28)\n",
    "img = b[63]\n",
    "# plt.imshow(b[63], cmap='gray')\n",
    "b.shape"
   ],
   "metadata": {
    "collapsed": false,
    "ExecuteTime": {
     "end_time": "2023-10-15T07:13:36.303075500Z",
     "start_time": "2023-10-15T07:13:36.221468600Z"
    }
   },
   "id": "896cf4e3060585eb"
  },
  {
   "cell_type": "code",
   "execution_count": 480,
   "outputs": [
    {
     "name": "stdout",
     "output_type": "stream",
     "text": [
      "0 True 0.4515208333333333 0.8495333333333334\n",
      "0 False 0.41812416294642857 0.8615142857142857\n"
     ]
    }
   ],
   "source": [
    "learner.fit(1)"
   ],
   "metadata": {
    "collapsed": false,
    "ExecuteTime": {
     "end_time": "2023-10-15T07:13:42.900513800Z",
     "start_time": "2023-10-15T07:13:36.298077300Z"
    }
   },
   "id": "54c4a86ae7407c3"
  },
  {
   "cell_type": "code",
   "execution_count": 481,
   "outputs": [
    {
     "data": {
      "text/plain": "0      -0.001342\n1      -0.000413\n2      -0.005505\n3      -0.002371\n4       0.000186\n          ...   \n2363   -0.007193\n2364    0.000943\n2365   -0.001377\n2366   -0.004244\n2367   -0.001470\nName: Values, Length: 2368, dtype: float32"
     },
     "execution_count": 481,
     "metadata": {},
     "output_type": "execute_result"
    }
   ],
   "source": [
    "learner.activations.iloc[:,2]"
   ],
   "metadata": {
    "collapsed": false,
    "ExecuteTime": {
     "end_time": "2023-10-15T07:13:42.985844500Z",
     "start_time": "2023-10-15T07:13:42.894513900Z"
    }
   },
   "id": "b5e586081547776"
  },
  {
   "cell_type": "code",
   "execution_count": 482,
   "outputs": [
    {
     "data": {
      "text/plain": "       Layer Epoch    Values  normalized\n0     Full_2     2 -0.001342   -0.086317\n1     Full_2     2 -0.000413   -0.032723\n2     Full_2     2 -0.005505   -0.326229\n3     Full_2     2 -0.002371   -0.145611\n4     Full_2     2  0.000186    0.001767\n...      ...   ...       ...         ...\n2363  Full_1     2 -0.007193   -0.423493\n2364  Full_1     2  0.000943    0.045412\n2365  Full_1     2 -0.001377   -0.088311\n2366  Full_1     2 -0.004244   -0.253556\n2367  Full_1     2 -0.001470   -0.093667\n\n[2368 rows x 4 columns]",
      "text/html": "<div>\n<style scoped>\n    .dataframe tbody tr th:only-of-type {\n        vertical-align: middle;\n    }\n\n    .dataframe tbody tr th {\n        vertical-align: top;\n    }\n\n    .dataframe thead th {\n        text-align: right;\n    }\n</style>\n<table border=\"1\" class=\"dataframe\">\n  <thead>\n    <tr style=\"text-align: right;\">\n      <th></th>\n      <th>Layer</th>\n      <th>Epoch</th>\n      <th>Values</th>\n      <th>normalized</th>\n    </tr>\n  </thead>\n  <tbody>\n    <tr>\n      <th>0</th>\n      <td>Full_2</td>\n      <td>2</td>\n      <td>-0.001342</td>\n      <td>-0.086317</td>\n    </tr>\n    <tr>\n      <th>1</th>\n      <td>Full_2</td>\n      <td>2</td>\n      <td>-0.000413</td>\n      <td>-0.032723</td>\n    </tr>\n    <tr>\n      <th>2</th>\n      <td>Full_2</td>\n      <td>2</td>\n      <td>-0.005505</td>\n      <td>-0.326229</td>\n    </tr>\n    <tr>\n      <th>3</th>\n      <td>Full_2</td>\n      <td>2</td>\n      <td>-0.002371</td>\n      <td>-0.145611</td>\n    </tr>\n    <tr>\n      <th>4</th>\n      <td>Full_2</td>\n      <td>2</td>\n      <td>0.000186</td>\n      <td>0.001767</td>\n    </tr>\n    <tr>\n      <th>...</th>\n      <td>...</td>\n      <td>...</td>\n      <td>...</td>\n      <td>...</td>\n    </tr>\n    <tr>\n      <th>2363</th>\n      <td>Full_1</td>\n      <td>2</td>\n      <td>-0.007193</td>\n      <td>-0.423493</td>\n    </tr>\n    <tr>\n      <th>2364</th>\n      <td>Full_1</td>\n      <td>2</td>\n      <td>0.000943</td>\n      <td>0.045412</td>\n    </tr>\n    <tr>\n      <th>2365</th>\n      <td>Full_1</td>\n      <td>2</td>\n      <td>-0.001377</td>\n      <td>-0.088311</td>\n    </tr>\n    <tr>\n      <th>2366</th>\n      <td>Full_1</td>\n      <td>2</td>\n      <td>-0.004244</td>\n      <td>-0.253556</td>\n    </tr>\n    <tr>\n      <th>2367</th>\n      <td>Full_1</td>\n      <td>2</td>\n      <td>-0.001470</td>\n      <td>-0.093667</td>\n    </tr>\n  </tbody>\n</table>\n<p>2368 rows × 4 columns</p>\n</div>"
     },
     "execution_count": 482,
     "metadata": {},
     "output_type": "execute_result"
    }
   ],
   "source": [
    "df = learner.get_normalized_activations()\n",
    "df"
   ],
   "metadata": {
    "collapsed": false,
    "ExecuteTime": {
     "end_time": "2023-10-15T07:13:43.059524200Z",
     "start_time": "2023-10-15T07:13:42.979247400Z"
    }
   },
   "id": "bfae949d1bff19a2"
  },
  {
   "cell_type": "code",
   "execution_count": 483,
   "outputs": [
    {
     "data": {
      "text/plain": "     Epoch  normalized\n320      2    0.057858\n321      2   -0.079193\n322      2    1.354316\n323      2   -0.509148\n324      2    0.599868\n...    ...         ...\n2363     2   -0.423493\n2364     2    0.045412\n2365     2   -0.088311\n2366     2   -0.253556\n2367     2   -0.093667\n\n[2048 rows x 2 columns]",
      "text/html": "<div>\n<style scoped>\n    .dataframe tbody tr th:only-of-type {\n        vertical-align: middle;\n    }\n\n    .dataframe tbody tr th {\n        vertical-align: top;\n    }\n\n    .dataframe thead th {\n        text-align: right;\n    }\n</style>\n<table border=\"1\" class=\"dataframe\">\n  <thead>\n    <tr style=\"text-align: right;\">\n      <th></th>\n      <th>Epoch</th>\n      <th>normalized</th>\n    </tr>\n  </thead>\n  <tbody>\n    <tr>\n      <th>320</th>\n      <td>2</td>\n      <td>0.057858</td>\n    </tr>\n    <tr>\n      <th>321</th>\n      <td>2</td>\n      <td>-0.079193</td>\n    </tr>\n    <tr>\n      <th>322</th>\n      <td>2</td>\n      <td>1.354316</td>\n    </tr>\n    <tr>\n      <th>323</th>\n      <td>2</td>\n      <td>-0.509148</td>\n    </tr>\n    <tr>\n      <th>324</th>\n      <td>2</td>\n      <td>0.599868</td>\n    </tr>\n    <tr>\n      <th>...</th>\n      <td>...</td>\n      <td>...</td>\n    </tr>\n    <tr>\n      <th>2363</th>\n      <td>2</td>\n      <td>-0.423493</td>\n    </tr>\n    <tr>\n      <th>2364</th>\n      <td>2</td>\n      <td>0.045412</td>\n    </tr>\n    <tr>\n      <th>2365</th>\n      <td>2</td>\n      <td>-0.088311</td>\n    </tr>\n    <tr>\n      <th>2366</th>\n      <td>2</td>\n      <td>-0.253556</td>\n    </tr>\n    <tr>\n      <th>2367</th>\n      <td>2</td>\n      <td>-0.093667</td>\n    </tr>\n  </tbody>\n</table>\n<p>2048 rows × 2 columns</p>\n</div>"
     },
     "execution_count": 483,
     "metadata": {},
     "output_type": "execute_result"
    }
   ],
   "source": [
    "df[df['Layer'] == 'Full_1'].loc[:, ['Epoch', 'normalized']]"
   ],
   "metadata": {
    "collapsed": false,
    "ExecuteTime": {
     "end_time": "2023-10-15T07:13:43.156364100Z",
     "start_time": "2023-10-15T07:13:43.056021Z"
    }
   },
   "id": "f1fc69f1cb36ea42"
  },
  {
   "cell_type": "code",
   "execution_count": 484,
   "outputs": [
    {
     "data": {
      "text/plain": "<Axes: ylabel='Count'>"
     },
     "execution_count": 484,
     "metadata": {},
     "output_type": "execute_result"
    },
    {
     "data": {
      "text/plain": "<Figure size 640x480 with 1 Axes>",
      "image/png": "[encoded data removed]"
     },
     "metadata": {},
     "output_type": "display_data"
    }
   ],
   "source": [
    "import seaborn as sns  \n",
    "\n",
    "sns.histplot(df[df['Layer'] == 'Full_1'].loc[:, ['Values']], bins=25)\n",
    "sns.histplot(df[df['Layer'] == 'Full_2'].loc[:, ['Values']], bins=25)"
   ],
   "metadata": {
    "collapsed": false,
    "ExecuteTime": {
     "end_time": "2023-10-15T07:13:43.373024200Z",
     "start_time": "2023-10-15T07:13:43.136609100Z"
    }
   },
   "id": "32b1e1ffd6c4d67"
  },
  {
   "cell_type": "code",
   "execution_count": 491,
   "outputs": [
    {
     "name": "stderr",
     "output_type": "stream",
     "text": [
      "C:\\Users\\sonne\\anaconda3\\envs\\seminar\\Lib\\site-packages\\seaborn\\axisgrid.py:118: UserWarning: The figure layout has changed to tight\n",
      "  self._figure.tight_layout(*args, **kwargs)\n",
      "C:\\Users\\sonne\\anaconda3\\envs\\seminar\\Lib\\site-packages\\seaborn\\axisgrid.py:118: UserWarning: The figure layout has changed to tight\n",
      "  self._figure.tight_layout(*args, **kwargs)\n"
     ]
    },
    {
     "data": {
      "text/plain": "<seaborn.axisgrid.FacetGrid at 0x20a19e7cd90>"
     },
     "execution_count": 491,
     "metadata": {},
     "output_type": "execute_result"
    },
    {
     "data": {
      "text/plain": "<Figure size 591.5x500 with 1 Axes>",
      "image/png": "[encoded data removed]"
     },
     "metadata": {},
     "output_type": "display_data"
    },
    {
     "data": {
      "text/plain": "<Figure size 591.5x500 with 1 Axes>",
      "image/png": "[encoded data removed]"
     },
     "metadata": {},
     "output_type": "display_data"
    }
   ],
   "source": [
    "sns.displot(df[df['Layer'] == 'Full_1'].loc[:, ['Values']], kind='kde')\n",
    "sns.displot(df[df['Layer'] == 'Full_2'].loc[:, ['Values']], kind='kde')"
   ],
   "metadata": {
    "collapsed": false,
    "ExecuteTime": {
     "end_time": "2023-10-15T07:44:36.396331500Z",
     "start_time": "2023-10-15T07:44:35.948701100Z"
    }
   },
   "id": "c82927532286a667"
  }
 ],
 "metadata": {
  "kernelspec": {
   "display_name": "Python 3",
   "language": "python",
   "name": "python3"
  },
  "language_info": {
   "codemirror_mode": {
    "name": "ipython",
    "version": 2
   },
   "file_extension": ".py",
   "mimetype": "text/x-python",
   "name": "python",
   "nbconvert_exporter": "python",
   "pygments_lexer": "ipython2",
   "version": "2.7.6"
  }
 },
 "nbformat": 4,
 "nbformat_minor": 5
}
